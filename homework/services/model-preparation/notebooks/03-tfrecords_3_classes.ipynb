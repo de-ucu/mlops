{
 "cells": [
  {
   "cell_type": "code",
   "execution_count": 1,
   "metadata": {},
   "outputs": [],
   "source": [
    "import os\n",
    "import math\n",
    "import pandas as pd\n",
    "from tqdm import tqdm\n",
    "import tensorflow as tf\n",
    "from pathlib import Path\n",
    "from sklearn.model_selection import train_test_split"
   ]
  },
  {
   "cell_type": "code",
   "execution_count": 2,
   "metadata": {},
   "outputs": [],
   "source": [
    "SEED = 1\n",
    "RECORDS_PER_TFRECORD_FILE = 2000\n",
    "DATA_ROOT = Path(\"/\", \"data\")\n",
    "IMAGE_HEIGHT, IMAGE_WIDTH = 224, 224"
   ]
  },
  {
   "cell_type": "markdown",
   "metadata": {},
   "source": [
    "### Preparing dataset"
   ]
  },
  {
   "cell_type": "markdown",
   "metadata": {},
   "source": [
    "#### Loading cats-dogs file list"
   ]
  },
  {
   "cell_type": "code",
   "execution_count": 3,
   "metadata": {},
   "outputs": [
    {
     "data": {
      "text/html": [
       "<div>\n",
       "<style scoped>\n",
       "    .dataframe tbody tr th:only-of-type {\n",
       "        vertical-align: middle;\n",
       "    }\n",
       "\n",
       "    .dataframe tbody tr th {\n",
       "        vertical-align: top;\n",
       "    }\n",
       "\n",
       "    .dataframe thead th {\n",
       "        text-align: right;\n",
       "    }\n",
       "</style>\n",
       "<table border=\"1\" class=\"dataframe\">\n",
       "  <thead>\n",
       "    <tr style=\"text-align: right;\">\n",
       "      <th></th>\n",
       "      <th>filename</th>\n",
       "      <th>species</th>\n",
       "    </tr>\n",
       "  </thead>\n",
       "  <tbody>\n",
       "    <tr>\n",
       "      <th>4387</th>\n",
       "      <td>/data/01-raw/01-catdog/images/Bombay_215.jpg</td>\n",
       "      <td>0</td>\n",
       "    </tr>\n",
       "    <tr>\n",
       "      <th>2534</th>\n",
       "      <td>/data/01-raw/01-catdog/images/english_setter_1...</td>\n",
       "      <td>1</td>\n",
       "    </tr>\n",
       "    <tr>\n",
       "      <th>1936</th>\n",
       "      <td>/data/01-raw/01-catdog/images/american_bulldog...</td>\n",
       "      <td>1</td>\n",
       "    </tr>\n",
       "    <tr>\n",
       "      <th>5551</th>\n",
       "      <td>/data/01-raw/01-catdog/images/keeshond_91.jpg</td>\n",
       "      <td>1</td>\n",
       "    </tr>\n",
       "    <tr>\n",
       "      <th>4363</th>\n",
       "      <td>/data/01-raw/01-catdog/images/Birman_87.jpg</td>\n",
       "      <td>0</td>\n",
       "    </tr>\n",
       "  </tbody>\n",
       "</table>\n",
       "</div>"
      ],
      "text/plain": [
       "                                               filename  species\n",
       "4387       /data/01-raw/01-catdog/images/Bombay_215.jpg        0\n",
       "2534  /data/01-raw/01-catdog/images/english_setter_1...        1\n",
       "1936  /data/01-raw/01-catdog/images/american_bulldog...        1\n",
       "5551      /data/01-raw/01-catdog/images/keeshond_91.jpg        1\n",
       "4363        /data/01-raw/01-catdog/images/Birman_87.jpg        0"
      ]
     },
     "execution_count": 3,
     "metadata": {},
     "output_type": "execute_result"
    }
   ],
   "source": [
    "catdog_df = pd.read_csv(Path(DATA_ROOT, '01-raw', '01-catdog', 'list.txt'), names=['filename', 'species'], sep=' ', skiprows=6, usecols=[0, 2])\n",
    "catdog_df.filename = str(Path(DATA_ROOT, '01-raw', '01-catdog', 'images')) + os.sep + catdog_df.filename + '.jpg'\n",
    "catdog_df.species = catdog_df.species - 1\n",
    "catdog_df.sample(5, random_state=SEED)"
   ]
  },
  {
   "cell_type": "markdown",
   "metadata": {},
   "source": [
    "#### Loading horses file list"
   ]
  },
  {
   "cell_type": "code",
   "execution_count": 4,
   "metadata": {},
   "outputs": [
    {
     "data": {
      "text/html": [
       "<div>\n",
       "<style scoped>\n",
       "    .dataframe tbody tr th:only-of-type {\n",
       "        vertical-align: middle;\n",
       "    }\n",
       "\n",
       "    .dataframe tbody tr th {\n",
       "        vertical-align: top;\n",
       "    }\n",
       "\n",
       "    .dataframe thead th {\n",
       "        text-align: right;\n",
       "    }\n",
       "</style>\n",
       "<table border=\"1\" class=\"dataframe\">\n",
       "  <thead>\n",
       "    <tr style=\"text-align: right;\">\n",
       "      <th></th>\n",
       "      <th>filename</th>\n",
       "      <th>species</th>\n",
       "    </tr>\n",
       "  </thead>\n",
       "  <tbody>\n",
       "    <tr>\n",
       "      <th>1000</th>\n",
       "      <td>/data/01-raw/02-horse/OIP-_dXqiMjcGhETeeog11EI...</td>\n",
       "      <td>2</td>\n",
       "    </tr>\n",
       "    <tr>\n",
       "      <th>654</th>\n",
       "      <td>/data/01-raw/02-horse/OIP-abWfS5BJ1aUVqejincm6...</td>\n",
       "      <td>2</td>\n",
       "    </tr>\n",
       "    <tr>\n",
       "      <th>1102</th>\n",
       "      <td>/data/01-raw/02-horse/OIP-k8fBJWzNnV_pB9wefz_Z...</td>\n",
       "      <td>2</td>\n",
       "    </tr>\n",
       "    <tr>\n",
       "      <th>1975</th>\n",
       "      <td>/data/01-raw/02-horse/OIP-lMLWftM5UUc0DCr3QiC-...</td>\n",
       "      <td>2</td>\n",
       "    </tr>\n",
       "    <tr>\n",
       "      <th>730</th>\n",
       "      <td>/data/01-raw/02-horse/OIP-wmlrz98DPpqYNZ5JcXWf...</td>\n",
       "      <td>2</td>\n",
       "    </tr>\n",
       "  </tbody>\n",
       "</table>\n",
       "</div>"
      ],
      "text/plain": [
       "                                               filename  species\n",
       "1000  /data/01-raw/02-horse/OIP-_dXqiMjcGhETeeog11EI...        2\n",
       "654   /data/01-raw/02-horse/OIP-abWfS5BJ1aUVqejincm6...        2\n",
       "1102  /data/01-raw/02-horse/OIP-k8fBJWzNnV_pB9wefz_Z...        2\n",
       "1975  /data/01-raw/02-horse/OIP-lMLWftM5UUc0DCr3QiC-...        2\n",
       "730   /data/01-raw/02-horse/OIP-wmlrz98DPpqYNZ5JcXWf...        2"
      ]
     },
     "execution_count": 4,
     "metadata": {},
     "output_type": "execute_result"
    }
   ],
   "source": [
    "filelist = Path(DATA_ROOT, '01-raw', '02-horse').glob('*.jpeg')\n",
    "horse_df = pd.DataFrame({\n",
    "    'filename': [str(f.absolute()) for f in filelist],\n",
    "    'species': 2,\n",
    "    \n",
    "})\n",
    "horse_df.sample(5, random_state=SEED)"
   ]
  },
  {
   "cell_type": "code",
   "execution_count": 5,
   "metadata": {},
   "outputs": [
    {
     "data": {
      "text/html": [
       "<div>\n",
       "<style scoped>\n",
       "    .dataframe tbody tr th:only-of-type {\n",
       "        vertical-align: middle;\n",
       "    }\n",
       "\n",
       "    .dataframe tbody tr th {\n",
       "        vertical-align: top;\n",
       "    }\n",
       "\n",
       "    .dataframe thead th {\n",
       "        text-align: right;\n",
       "    }\n",
       "</style>\n",
       "<table border=\"1\" class=\"dataframe\">\n",
       "  <thead>\n",
       "    <tr style=\"text-align: right;\">\n",
       "      <th></th>\n",
       "      <th>filename</th>\n",
       "      <th>species</th>\n",
       "    </tr>\n",
       "  </thead>\n",
       "  <tbody>\n",
       "    <tr>\n",
       "      <th>0</th>\n",
       "      <td>/data/01-raw/01-catdog/images/Abyssinian_100.jpg</td>\n",
       "      <td>0</td>\n",
       "    </tr>\n",
       "    <tr>\n",
       "      <th>1</th>\n",
       "      <td>/data/01-raw/01-catdog/images/Abyssinian_101.jpg</td>\n",
       "      <td>0</td>\n",
       "    </tr>\n",
       "    <tr>\n",
       "      <th>2</th>\n",
       "      <td>/data/01-raw/01-catdog/images/Abyssinian_102.jpg</td>\n",
       "      <td>0</td>\n",
       "    </tr>\n",
       "    <tr>\n",
       "      <th>3</th>\n",
       "      <td>/data/01-raw/01-catdog/images/Abyssinian_103.jpg</td>\n",
       "      <td>0</td>\n",
       "    </tr>\n",
       "    <tr>\n",
       "      <th>4</th>\n",
       "      <td>/data/01-raw/01-catdog/images/Abyssinian_104.jpg</td>\n",
       "      <td>0</td>\n",
       "    </tr>\n",
       "    <tr>\n",
       "      <th>...</th>\n",
       "      <td>...</td>\n",
       "      <td>...</td>\n",
       "    </tr>\n",
       "    <tr>\n",
       "      <th>2618</th>\n",
       "      <td>/data/01-raw/02-horse/OIP-Ca23ef0W6FQVPkgVkDLb...</td>\n",
       "      <td>2</td>\n",
       "    </tr>\n",
       "    <tr>\n",
       "      <th>2619</th>\n",
       "      <td>/data/01-raw/02-horse/OIP-dUUmM7yVE3vhAxInRvhl...</td>\n",
       "      <td>2</td>\n",
       "    </tr>\n",
       "    <tr>\n",
       "      <th>2620</th>\n",
       "      <td>/data/01-raw/02-horse/OIP-BRGXdaNFWe0VrnDbBUhp...</td>\n",
       "      <td>2</td>\n",
       "    </tr>\n",
       "    <tr>\n",
       "      <th>2621</th>\n",
       "      <td>/data/01-raw/02-horse/OIP-MwFXI4MkHT-sSutR2HMO...</td>\n",
       "      <td>2</td>\n",
       "    </tr>\n",
       "    <tr>\n",
       "      <th>2622</th>\n",
       "      <td>/data/01-raw/02-horse/OIP-CQ1dKZJwulOFVfvSRkAr...</td>\n",
       "      <td>2</td>\n",
       "    </tr>\n",
       "  </tbody>\n",
       "</table>\n",
       "<p>9972 rows × 2 columns</p>\n",
       "</div>"
      ],
      "text/plain": [
       "                                               filename  species\n",
       "0      /data/01-raw/01-catdog/images/Abyssinian_100.jpg        0\n",
       "1      /data/01-raw/01-catdog/images/Abyssinian_101.jpg        0\n",
       "2      /data/01-raw/01-catdog/images/Abyssinian_102.jpg        0\n",
       "3      /data/01-raw/01-catdog/images/Abyssinian_103.jpg        0\n",
       "4      /data/01-raw/01-catdog/images/Abyssinian_104.jpg        0\n",
       "...                                                 ...      ...\n",
       "2618  /data/01-raw/02-horse/OIP-Ca23ef0W6FQVPkgVkDLb...        2\n",
       "2619  /data/01-raw/02-horse/OIP-dUUmM7yVE3vhAxInRvhl...        2\n",
       "2620  /data/01-raw/02-horse/OIP-BRGXdaNFWe0VrnDbBUhp...        2\n",
       "2621  /data/01-raw/02-horse/OIP-MwFXI4MkHT-sSutR2HMO...        2\n",
       "2622  /data/01-raw/02-horse/OIP-CQ1dKZJwulOFVfvSRkAr...        2\n",
       "\n",
       "[9972 rows x 2 columns]"
      ]
     },
     "execution_count": 5,
     "metadata": {},
     "output_type": "execute_result"
    }
   ],
   "source": [
    "df = pd.concat([catdog_df, horse_df])\n",
    "df"
   ]
  },
  {
   "cell_type": "markdown",
   "metadata": {},
   "source": [
    "#### Creating train-test datasets"
   ]
  },
  {
   "cell_type": "code",
   "execution_count": 6,
   "metadata": {},
   "outputs": [],
   "source": [
    "test, train = train_test_split(df, test_size=0.8, random_state=SEED, stratify=df.species)\n",
    "train_size = math.ceil(len(train) / RECORDS_PER_TFRECORD_FILE)\n",
    "test_size = math.ceil(len(test) / RECORDS_PER_TFRECORD_FILE)"
   ]
  },
  {
   "cell_type": "code",
   "execution_count": 7,
   "metadata": {},
   "outputs": [
    {
     "data": {
      "text/plain": [
       "(7978, 1994)"
      ]
     },
     "execution_count": 7,
     "metadata": {},
     "output_type": "execute_result"
    }
   ],
   "source": [
    "len(train), len(test)"
   ]
  },
  {
   "cell_type": "code",
   "execution_count": 8,
   "metadata": {},
   "outputs": [],
   "source": [
    "def generate_path(split_name, chunk_number):\n",
    "    return Path(DATA_ROOT, '02-tfrecords', split_name, f\"{split_name}-{str(chunk_number).zfill(3)}.tfrecord\")"
   ]
  },
  {
   "cell_type": "code",
   "execution_count": 9,
   "metadata": {},
   "outputs": [],
   "source": [
    "def read_and_preprocess_image(path):\n",
    "    image = tf.io.read_file(path)\n",
    "    image = tf.image.decode_jpeg(image, channels=3)\n",
    "    image = tf.image.resize_with_pad(image, IMAGE_HEIGHT, IMAGE_WIDTH)\n",
    "    image = tf.cast(image, tf.uint8)\n",
    "\n",
    "    return image"
   ]
  },
  {
   "cell_type": "code",
   "execution_count": 10,
   "metadata": {},
   "outputs": [],
   "source": [
    "def _int64_feature(value):\n",
    "    \"\"\"Returns an int64_list from a bool / enum / int / uint.\"\"\"\n",
    "    return tf.train.Feature(int64_list=tf.train.Int64List(value=[value]))\n",
    "\n",
    "def _bytes_feature(value):\n",
    "    \"\"\"Returns a bytes_list from a string / byte.\"\"\"\n",
    "    return tf.train.Feature(bytes_list=tf.train.BytesList(value=[value]))\n",
    "\n",
    "def write_tfrecord(items, tfrecord_filename):\n",
    "    tfrecord_filename.parents[0].mkdir(parents=True, exist_ok=True)\n",
    "    writer = tf.io.TFRecordWriter(str(tfrecord_filename), tf.io.TFRecordOptions(compression_type=\"GZIP\"))\n",
    "    \n",
    "    for filename, label in items:\n",
    "        image = read_and_preprocess_image(filename)\n",
    "        feature = {\n",
    "            'label': _int64_feature(label),\n",
    "            'image': _bytes_feature(image.numpy().tobytes()),\n",
    "        }\n",
    "        example = tf.train.Example(features=tf.train.Features(feature=feature))\n",
    "        writer.write(example.SerializeToString())\n",
    "    writer.close()"
   ]
  },
  {
   "cell_type": "code",
   "execution_count": 11,
   "metadata": {},
   "outputs": [
    {
     "name": "stderr",
     "output_type": "stream",
     "text": [
      "100%|██████████| 4/4 [01:40<00:00, 25.03s/it]\n",
      "100%|██████████| 1/1 [00:26<00:00, 26.38s/it]\n"
     ]
    }
   ],
   "source": [
    "for i in tqdm(range(train_size)):\n",
    "    write_tfrecord(train[i*RECORDS_PER_TFRECORD_FILE:(i + 1)*RECORDS_PER_TFRECORD_FILE].values, generate_path(\"train\", i))\n",
    "\n",
    "for i in tqdm(range(test_size)):\n",
    "    write_tfrecord(test[i*RECORDS_PER_TFRECORD_FILE:(i + 1)*RECORDS_PER_TFRECORD_FILE].values, generate_path(\"test\", i))"
   ]
  },
  {
   "cell_type": "code",
   "execution_count": null,
   "metadata": {},
   "outputs": [],
   "source": []
  }
 ],
 "metadata": {
  "kernelspec": {
   "display_name": "Python 3",
   "language": "python",
   "name": "python3"
  },
  "language_info": {
   "codemirror_mode": {
    "name": "ipython",
    "version": 3
   },
   "file_extension": ".py",
   "mimetype": "text/x-python",
   "name": "python",
   "nbconvert_exporter": "python",
   "pygments_lexer": "ipython3",
   "version": "3.8.5"
  }
 },
 "nbformat": 4,
 "nbformat_minor": 4
}
