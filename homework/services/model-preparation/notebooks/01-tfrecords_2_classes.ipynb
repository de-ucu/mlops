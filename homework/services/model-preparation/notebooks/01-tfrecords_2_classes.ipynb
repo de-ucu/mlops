{
 "cells": [
  {
   "cell_type": "code",
   "execution_count": 4,
   "metadata": {},
   "outputs": [],
   "source": [
    "import math\n",
    "import pandas as pd\n",
    "from tqdm import tqdm\n",
    "import tensorflow as tf\n",
    "from pathlib import Path\n",
    "from sklearn.model_selection import train_test_split"
   ]
  },
  {
   "cell_type": "code",
   "execution_count": 5,
   "metadata": {},
   "outputs": [],
   "source": [
    "SEED = 1\n",
    "RECORDS_PER_TFRECORD_FILE = 2000\n",
    "DATA_ROOT = Path(\"/\", \"data\")\n",
    "IMAGE_HEIGHT, IMAGE_WIDTH = 224, 224"
   ]
  },
  {
   "cell_type": "markdown",
   "metadata": {},
   "source": [
    "### Preparing cats-dogs dataset"
   ]
  },
  {
   "cell_type": "markdown",
   "metadata": {},
   "source": [
    "#### Loading file list"
   ]
  },
  {
   "cell_type": "code",
   "execution_count": 7,
   "metadata": {},
   "outputs": [
    {
     "data": {
      "text/html": [
       "<div>\n",
       "<style scoped>\n",
       "    .dataframe tbody tr th:only-of-type {\n",
       "        vertical-align: middle;\n",
       "    }\n",
       "\n",
       "    .dataframe tbody tr th {\n",
       "        vertical-align: top;\n",
       "    }\n",
       "\n",
       "    .dataframe thead th {\n",
       "        text-align: right;\n",
       "    }\n",
       "</style>\n",
       "<table border=\"1\" class=\"dataframe\">\n",
       "  <thead>\n",
       "    <tr style=\"text-align: right;\">\n",
       "      <th></th>\n",
       "      <th>filename</th>\n",
       "      <th>species</th>\n",
       "    </tr>\n",
       "  </thead>\n",
       "  <tbody>\n",
       "    <tr>\n",
       "      <th>4387</th>\n",
       "      <td>Bombay_215</td>\n",
       "      <td>0</td>\n",
       "    </tr>\n",
       "    <tr>\n",
       "      <th>2534</th>\n",
       "      <td>english_setter_190</td>\n",
       "      <td>1</td>\n",
       "    </tr>\n",
       "    <tr>\n",
       "      <th>1936</th>\n",
       "      <td>american_bulldog_193</td>\n",
       "      <td>1</td>\n",
       "    </tr>\n",
       "    <tr>\n",
       "      <th>5551</th>\n",
       "      <td>keeshond_91</td>\n",
       "      <td>1</td>\n",
       "    </tr>\n",
       "    <tr>\n",
       "      <th>4363</th>\n",
       "      <td>Birman_87</td>\n",
       "      <td>0</td>\n",
       "    </tr>\n",
       "  </tbody>\n",
       "</table>\n",
       "</div>"
      ],
      "text/plain": [
       "                  filename  species\n",
       "4387            Bombay_215        0\n",
       "2534    english_setter_190        1\n",
       "1936  american_bulldog_193        1\n",
       "5551           keeshond_91        1\n",
       "4363             Birman_87        0"
      ]
     },
     "execution_count": 7,
     "metadata": {},
     "output_type": "execute_result"
    }
   ],
   "source": [
    "meta_df = pd.read_csv(Path(DATA_ROOT, \"01-raw\", '01-catdog', 'list.txt'), names=['filename', 'species'], sep=' ', skiprows=6, usecols=[0, 2])\n",
    "meta_df.species = meta_df.species - 1\n",
    "meta_df.sample(5, random_state=SEED)"
   ]
  },
  {
   "cell_type": "markdown",
   "metadata": {},
   "source": [
    "#### Creating train-test datasets"
   ]
  },
  {
   "cell_type": "code",
   "execution_count": 8,
   "metadata": {},
   "outputs": [],
   "source": [
    "test, train = train_test_split(meta_df, test_size=0.8, random_state=SEED, stratify=meta_df.species)\n",
    "train_size = math.ceil(len(train) / RECORDS_PER_TFRECORD_FILE)\n",
    "test_size = math.ceil(len(test) / RECORDS_PER_TFRECORD_FILE)"
   ]
  },
  {
   "cell_type": "code",
   "execution_count": 9,
   "metadata": {},
   "outputs": [
    {
     "data": {
      "text/plain": [
       "(5880, 1469)"
      ]
     },
     "execution_count": 9,
     "metadata": {},
     "output_type": "execute_result"
    }
   ],
   "source": [
    "len(train), len(test)"
   ]
  },
  {
   "cell_type": "code",
   "execution_count": 10,
   "metadata": {},
   "outputs": [],
   "source": [
    "def generate_path(split_name, chunk_number):\n",
    "    return Path(DATA_ROOT, '02-tfrecords', split_name, f\"{split_name}-{str(chunk_number).zfill(3)}.tfrecord\")"
   ]
  },
  {
   "cell_type": "code",
   "execution_count": 11,
   "metadata": {},
   "outputs": [],
   "source": [
    "def read_and_preprocess_image(path):\n",
    "    image = tf.io.read_file(path)\n",
    "    image = tf.image.decode_jpeg(image, channels=3)\n",
    "    image = tf.image.resize_with_pad(image, IMAGE_HEIGHT, IMAGE_WIDTH)\n",
    "    image = tf.cast(image, tf.uint8)\n",
    "\n",
    "    return image"
   ]
  },
  {
   "cell_type": "code",
   "execution_count": 14,
   "metadata": {},
   "outputs": [],
   "source": [
    "def _int64_feature(value):\n",
    "    \"\"\"Returns an int64_list from a bool / enum / int / uint.\"\"\"\n",
    "    return tf.train.Feature(int64_list=tf.train.Int64List(value=[value]))\n",
    "\n",
    "def _bytes_feature(value):\n",
    "    \"\"\"Returns a bytes_list from a string / byte.\"\"\"\n",
    "    return tf.train.Feature(bytes_list=tf.train.BytesList(value=[value]))\n",
    "\n",
    "def write_tfrecord(items, tfrecord_filename):\n",
    "    root = Path(DATA_ROOT, '01-raw', '01-catdog', 'images')\n",
    "\n",
    "    tfrecord_filename.parents[0].mkdir(parents=True, exist_ok=True)\n",
    "    writer = tf.io.TFRecordWriter(str(tfrecord_filename), tf.io.TFRecordOptions(compression_type=\"GZIP\"))\n",
    "    \n",
    "    for filename, label in items:\n",
    "        image = read_and_preprocess_image(str(Path(root, f'{filename}.jpg')))\n",
    "        feature = {\n",
    "            'label': _int64_feature(label),\n",
    "            'image': _bytes_feature(image.numpy().tobytes()),\n",
    "        }\n",
    "        example = tf.train.Example(features=tf.train.Features(feature=feature))\n",
    "        writer.write(example.SerializeToString())\n",
    "    writer.close()"
   ]
  },
  {
   "cell_type": "code",
   "execution_count": 15,
   "metadata": {},
   "outputs": [
    {
     "name": "stderr",
     "output_type": "stream",
     "text": [
      "100%|██████████| 3/3 [01:20<00:00, 26.79s/it]\n",
      "100%|██████████| 1/1 [00:19<00:00, 19.65s/it]\n"
     ]
    }
   ],
   "source": [
    "for i in tqdm(range(train_size)):\n",
    "    write_tfrecord(train[i*RECORDS_PER_TFRECORD_FILE:(i + 1)*RECORDS_PER_TFRECORD_FILE].values, generate_path(\"train\", i))\n",
    "\n",
    "for i in tqdm(range(test_size)):\n",
    "    write_tfrecord(test[i*RECORDS_PER_TFRECORD_FILE:(i + 1)*RECORDS_PER_TFRECORD_FILE].values, generate_path(\"test\", i))"
   ]
  },
  {
   "cell_type": "code",
   "execution_count": null,
   "metadata": {},
   "outputs": [],
   "source": []
  }
 ],
 "metadata": {
  "kernelspec": {
   "display_name": "Python 3",
   "language": "python",
   "name": "python3"
  },
  "language_info": {
   "codemirror_mode": {
    "name": "ipython",
    "version": 3
   },
   "file_extension": ".py",
   "mimetype": "text/x-python",
   "name": "python",
   "nbconvert_exporter": "python",
   "pygments_lexer": "ipython3",
   "version": "3.8.5"
  }
 },
 "nbformat": 4,
 "nbformat_minor": 4
}
